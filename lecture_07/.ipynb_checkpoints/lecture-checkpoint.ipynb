{
 "cells": [
  {
   "cell_type": "markdown",
   "metadata": {},
   "source": [
    "### Jirkovo místečko\n",
    "* [ ] task definition (suitable df,  df preparation, curse of dimensionality, dimensionality reduction, df preparation)\n",
    "* [ ] Binary vs Multiple\n",
    "* [ ] Binary classification (ROC, Precision, Accuracy,Sensitivity, Specificity)\n",
    "* [ ] GLM + SVM\n",
    "* [ ] Grid Search\n",
    "* [ ] Validation, Overtraining"
   ]
  },
  {
   "cell_type": "markdown",
   "metadata": {},
   "source": [
    "# Neural Networks\n",
    "* [ ] https://karpathy.github.io/neuralnets/\n",
    "* [ ] https://playground.tensorflow.org/"
   ]
  },
  {
   "cell_type": "markdown",
   "metadata": {},
   "source": [
    "### XOR using NN\n",
    "Let's predict Exclusive OR using NN"
   ]
  },
  {
   "cell_type": "markdown",
   "metadata": {},
   "source": [
    "```\n",
    "+---+---+---------+\n",
    "| A | B | A XOR B |\n",
    "+---+---+---------+\n",
    "| 1 | 1 | 0       |\n",
    "+---+---+---------+\n",
    "| 1 | 0 | 1       |\n",
    "+---+---+---------+\n",
    "| 0 | 1 | 1       |\n",
    "+---+---+---------+\n",
    "| 0 | 0 | 0       |\n",
    "+---+---+---------+\n",
    "```"
   ]
  },
  {
   "cell_type": "markdown",
   "metadata": {
    "slideshow": {
     "slide_type": "slide"
    }
   },
   "source": [
    "It's a binary classification problem, and a supervised one. Our task is to create a neural network that will predict the values of one logical function given the inputs."
   ]
  },
  {
   "cell_type": "markdown",
   "metadata": {},
   "source": [
    "Let's assume the simple shallow architecture with hidden layer\n",
    "![NNet](pics/NNEt.png)"
   ]
  },
  {
   "cell_type": "markdown",
   "metadata": {},
   "source": [
    "* `X1,X2` = data input\n",
    "* `N1,N2,N3` = neurons\n",
    "* `B1,B2` = bias\n",
    "* `W..` = weights\n",
    "* `b..` = bias weights\n",
    "* `Y` = output"
   ]
  },
  {
   "cell_type": "markdown",
   "metadata": {},
   "source": [
    "Bias node is \"always on\" -- in NN has the role of the intercept and it's providing a way to get non-zero output on zero inputs. Without bias, the activation of features = 0 would be always zero. When using sigmoid function for example, the output of the (0,0) would be 0.5. "
   ]
  },
  {
   "cell_type": "markdown",
   "metadata": {},
   "source": [
    "We'll assume sigmoid neurons:\n",
    "* they accept real values as inputs\n",
    "* the value of activation is a dot product of weights and inputs (+ bias), i.e. `W*out_{prev} + b`\n",
    "* output is a sigmoid function of its activation value"
   ]
  },
  {
   "cell_type": "code",
   "execution_count": 78,
   "metadata": {},
   "outputs": [],
   "source": [
    "import numpy as np\n",
    "import matplotlib.pyplot as plt"
   ]
  },
  {
   "cell_type": "code",
   "execution_count": 79,
   "metadata": {},
   "outputs": [],
   "source": [
    "def sigmoid(x):\n",
    "    return 1/(1+np.exp(-x))"
   ]
  },
  {
   "cell_type": "code",
   "execution_count": 80,
   "metadata": {},
   "outputs": [],
   "source": [
    "def sigmoid_derivative(x):\n",
    "    \"\"\"\n",
    "    x is assumed to be sigmoid function!\n",
    "    \"\"\"\n",
    "    return x*(1-x)"
   ]
  },
  {
   "cell_type": "code",
   "execution_count": 81,
   "metadata": {},
   "outputs": [],
   "source": [
    "x = np.arange(-10,10,0.01)"
   ]
  },
  {
   "cell_type": "code",
   "execution_count": 82,
   "metadata": {},
   "outputs": [
    {
     "data": {
      "image/png": "[encoded data removed]",
      "text/plain": [
       "<Figure size 432x288 with 1 Axes>"
      ]
     },
     "metadata": {
      "needs_background": "light"
     },
     "output_type": "display_data"
    }
   ],
   "source": [
    "plt.plot(x, sigmoid(x), x, sigmoid_derivative(sigmoid(x)))\n",
    "plt.show()"
   ]
  },
  {
   "cell_type": "markdown",
   "metadata": {},
   "source": [
    "#### Learning\n",
    "Information is stored in connections between the neurons -- the weights. NN learns by updating its weights according to a learning algorithm that helps it converge to the expected output."
   ]
  },
  {
   "cell_type": "markdown",
   "metadata": {},
   "source": [
    "* Initialize the weights and biases randomly.\n",
    "* Iterate over the data\n",
    "    * Compute the predicted output\n",
    "    * Compute the loss (distance from the data)\n",
    "    * `W(new) = W(old) — α ∆W`\n",
    "    * `b(new) = b(old) — α ∆b`\n",
    "* Repeat until the error is minimal"
   ]
  },
  {
   "cell_type": "markdown",
   "metadata": {},
   "source": [
    "Update step is assumed in the direction of gradient descent."
   ]
  },
  {
   "cell_type": "markdown",
   "metadata": {},
   "source": [
    "There are two parts to the learning algorithm\n",
    "* Forward pass (computation of the predicted output)\n",
    "* Backward pass, aka backpropagation (change of the weights)"
   ]
  },
  {
   "cell_type": "markdown",
   "metadata": {},
   "source": [
    "#### Data\n",
    "Let's create our learning dataset"
   ]
  },
  {
   "cell_type": "code",
   "execution_count": 83,
   "metadata": {},
   "outputs": [],
   "source": [
    "X = np.array([[0,0],[0,1],[1,0],[1,1]])\n",
    "Y = np.array([[0],[1],[1],[0]])"
   ]
  },
  {
   "cell_type": "markdown",
   "metadata": {},
   "source": [
    "#### Initialization of the weights and biases\n",
    "Let's sample normal distribution"
   ]
  },
  {
   "cell_type": "code",
   "execution_count": 84,
   "metadata": {},
   "outputs": [],
   "source": [
    "def init_params(n_X,n_H,n_Y):\n",
    "    \"\"\"\n",
    "    n_X ... number of input layer neurons\n",
    "    n_H ... number of hidden layer neurons\n",
    "    n_Y ... number of output layer neurons\n",
    "    \"\"\"\n",
    "    W1 = np.random.randn(n_X, n_H)\n",
    "    b1 = np.zeros((1, n_H))\n",
    "    W2 = np.random.randn(n_H, n_Y)\n",
    "    b2 = np.zeros((1, n_Y))\n",
    "    \n",
    "    return W1,b1,W2,b2"
   ]
  },
  {
   "cell_type": "code",
   "execution_count": 85,
   "metadata": {},
   "outputs": [],
   "source": [
    "n_X, n_H, n_Y = 2,2,1\n",
    "W1,b1,W2,b2 = init_params(2,2,1)"
   ]
  },
  {
   "cell_type": "code",
   "execution_count": 86,
   "metadata": {},
   "outputs": [
    {
     "name": "stdout",
     "output_type": "stream",
     "text": [
      "Initial hidden weights: [-0.81121937  0.72923401] [ 0.43503362 -0.15866546]\n",
      "Initial hidden biases: [0. 0.]\n",
      "Initial output weights: [-0.53002286] [0.09047724]\n",
      "Initial output biases: [0.]\n"
     ]
    }
   ],
   "source": [
    "print(\"Initial hidden weights: \",end='')\n",
    "print(*W1)\n",
    "print(\"Initial hidden biases: \",end='')\n",
    "print(*b1)\n",
    "print(\"Initial output weights: \",end='')\n",
    "print(*W2)\n",
    "print(\"Initial output biases: \",end='')\n",
    "print(*b2)"
   ]
  },
  {
   "cell_type": "code",
   "execution_count": 87,
   "metadata": {},
   "outputs": [],
   "source": [
    "epochs = 10000\n",
    "lr = 0.1"
   ]
  },
  {
   "cell_type": "markdown",
   "metadata": {},
   "source": [
    "#### Forward propagation\n",
    "Computing the predicted values"
   ]
  },
  {
   "cell_type": "code",
   "execution_count": 88,
   "metadata": {},
   "outputs": [],
   "source": [
    "def forward_prop(X,W1,b1,W2,b2):\n",
    "    hidden_layer_activation = np.dot(X,W1) + b1\n",
    "    hidden_layer_output = sigmoid(hidden_layer_activation)\n",
    "\n",
    "    output_layer_activation = np.dot(hidden_layer_output,W2) + b2 \n",
    "    Y_hat = sigmoid(output_layer_activation)\n",
    "    \n",
    "    return hidden_layer_output, Y_hat"
   ]
  },
  {
   "cell_type": "markdown",
   "metadata": {},
   "source": [
    "#### Error (loss) function\n",
    "Let's use mean squared error. Typically used rather for regression problems, but we'll ignore that for now.\n",
    "\n",
    "$E = \\frac{1}{2}(Y - Y_{hat})^2$\n",
    "\n",
    "We're going to need it's derivative (w.r.t. $Y_{hat}$)\n",
    "\n",
    "$\\frac{\\partial E}{\\partial Y_{hat}} = -(Y - Y_{hat})$"
   ]
  },
  {
   "cell_type": "code",
   "execution_count": 89,
   "metadata": {},
   "outputs": [],
   "source": [
    "def loss_function(Y,Y_hat):\n",
    "    loss = 1/2*np.sum(np.power(Y-Y_hat,2))\n",
    "    \n",
    "    return loss"
   ]
  },
  {
   "cell_type": "code",
   "execution_count": 90,
   "metadata": {},
   "outputs": [],
   "source": [
    "def loss_derivative(Y,Y_hat):\n",
    "    d_loss = -(Y - Y_hat)\n",
    "    \n",
    "    return d_loss"
   ]
  },
  {
   "cell_type": "markdown",
   "metadata": {},
   "source": [
    "#### Backpropagation\n",
    "Goal of the backpropagation is to change the weights in order to minimize the error/loss. Since the outcome is a function of activation and further activation is a function of weights, so we want to know\n",
    "\n",
    "$\\frac{\\partial E}{\\partial w21} = \\frac{\\partial E}{\\partial Y_{hat}} * \\frac{\\partial Y_{hat}}{\\partial net_{N3}} * \\frac{\\partial net_{N3}}{\\partial w21}$\n",
    "\n",
    "\n",
    "We already know the derivative of the error with respect to the prediction. The second term is derivative of the sigmoid\n",
    "\n",
    "$\\frac{\\partial Y_{hat}}{\\partial net_{N3}} = Y_{hat} * (1 - Y_{hat})$\n",
    "\n",
    "and the last term is a derivative of the activation by weights, so output of the hidden layer. \n",
    "\n",
    "$\\frac{\\partial net_{N3}}{\\partial w21} = out_{N1}$\n",
    "\n",
    "The same logic applied to other weights."
   ]
  },
  {
   "cell_type": "code",
   "execution_count": 91,
   "metadata": {},
   "outputs": [],
   "source": [
    "def back_prop(d_loss, Y_hat, W2, hidden_layer_output):\n",
    "    d_Y_hat = d_loss * sigmoid_derivative(Y_hat)\n",
    "    error_hidden_layer = d_Y_hat.dot(W2.T)\n",
    "    d_hidden_layer = error_hidden_layer * sigmoid_derivative(hidden_layer_output)\n",
    "    \n",
    "    return d_Y_hat, d_hidden_layer"
   ]
  },
  {
   "cell_type": "code",
   "execution_count": 92,
   "metadata": {},
   "outputs": [
    {
     "name": "stdout",
     "output_type": "stream",
     "text": [
      "Loss after iteration# 0: 0.505482\n",
      "Loss after iteration# 1000: 0.500076\n",
      "Loss after iteration# 2000: 0.499695\n",
      "Loss after iteration# 3000: 0.499029\n",
      "Loss after iteration# 4000: 0.496316\n",
      "Loss after iteration# 5000: 0.477242\n",
      "Loss after iteration# 6000: 0.404063\n",
      "Loss after iteration# 7000: 0.254559\n",
      "Loss after iteration# 8000: 0.081355\n",
      "Loss after iteration# 9000: 0.038809\n"
     ]
    }
   ],
   "source": [
    "#Training algorithm\n",
    "for i in range(epochs):\n",
    "    #Forward Propagation\n",
    "    hidden_layer_output, Y_hat = forward_prop(X,W1,b1,W2,b2)\n",
    "\n",
    "    # Compute loss and derivatives\n",
    "    loss = loss_function(Y,Y_hat)\n",
    "    d_loss = loss_derivative(Y,Y_hat)\n",
    "    \n",
    "    #Backpropagation\n",
    "    d_Y_hat, d_hidden_layer = back_prop(d_loss, Y_hat, W2, hidden_layer_output)\n",
    "    \n",
    "    #Updating Weights and Biases (Gradient descent)\n",
    "    W2 = W2 - hidden_layer_output.T.dot(d_Y_hat) * lr\n",
    "    b2 = b2 - np.sum(d_Y_hat,axis=0,keepdims=True) * lr\n",
    "    W1 = W1 - X.T.dot(d_hidden_layer) * lr\n",
    "    b1 = b1 - np.sum(d_hidden_layer,axis=0,keepdims=True) * lr\n",
    "    \n",
    "    if(i%1000 == 0):\n",
    "        print('Loss after iteration# {:d}: {:f}'.format(i, loss))"
   ]
  },
  {
   "cell_type": "code",
   "execution_count": 93,
   "metadata": {},
   "outputs": [
    {
     "name": "stdout",
     "output_type": "stream",
     "text": [
      "Final hidden weights: [-5.64861542  4.83533818] [ 5.70655464 -4.54853647]\n",
      "Final hidden bias: [2.97110367 2.28803863]\n",
      "Final output weights: [-5.24747215] [-5.36563094]\n",
      "Final output bias: [7.74025937]\n",
      "\n",
      "Output from neural network after 10,000 epochs: [0.10692546] [0.8793911] [0.88506088] [0.09528033]\n"
     ]
    }
   ],
   "source": [
    "print(\"Final hidden weights: \",end='')\n",
    "print(*W1)\n",
    "print(\"Final hidden bias: \",end='')\n",
    "print(*b1)\n",
    "print(\"Final output weights: \",end='')\n",
    "print(*W2)\n",
    "print(\"Final output bias: \",end='')\n",
    "print(*b2)\n",
    "\n",
    "print(\"\\nOutput from neural network after 10,000 epochs: \",end='')\n",
    "print(*Y_hat)"
   ]
  },
  {
   "cell_type": "markdown",
   "metadata": {},
   "source": [
    "## Alternatives & Improvements\n",
    "\n",
    "### Loss functions\n",
    "* Has significance on learning/updating\n",
    "* Choose according to the problem\n",
    "    * Regression: MSE, MSLE, MAE\n",
    "    * Binary Classification: Binary Cross-Entropy, Hinge loss,...\n",
    "    * Multi-class Classification: KL-divergence, Multi Cross-Entropy,...\n",
    "    \n",
    "### Activation functions\n",
    "* Linear function\n",
    "    * combinations are linear, not good approximative properties\n",
    "    * unbounded range\n",
    "    * constant learning rate\n",
    "* Sigmoids\n",
    "    * in [0,1]\n",
    "    * non-linear, good for stacking layers\n",
    "    * sensitive around zero\n",
    "    * \"vanishing gradients\" -- near zero learning rate\n",
    "* Tanh\n",
    "    * \"Scaled Sigmoid\", $2*sigmoid(2x)-1$\n",
    "    * steeper gradient\n",
    "* ReLu\n",
    "    * $A(x) = max(x,0)$\n",
    "    * does not fire up all activations as sigmoids -- that's costly in big networks\n",
    "    * combinations are non-linear -- good approximator\n",
    "    * less computationally demanding\n",
    "    * \"dying gradient\" -- neurons will stop responding because the gradient = 0 for negative values\n",
    "    * \"leaky ReLu\" -- $y=0.01x,\\, \\mathrm{for}\\, x<0$, the idea is to gradient recover itself\n",
    "    \n",
    "* Generally, ReLu are the most used one, but sigmoids can be better approximators (if more costly ones)\n",
    "\n",
    "### Learning step\n",
    "* some alternatives to backprop, but mostly minor\n",
    "* https://www.technologyreview.com/s/608911/is-ai-riding-a-one-trick-pony/\n",
    "* many alternatives to gradient descent!\n",
    "    * proximal grads\n",
    "    * evolutionary algorithms\n",
    "    * Ada optimizers\n",
    "    * stochastic gradient descent\n",
    "    \n",
    "    \n",
    "### Architecture\n",
    "* many variants of mostly deep networks\n",
    "* CNNs (use convolution instead of matrix multiplication) in one or more places\n",
    "* RNNs (use recurrence, long short-term memory -- good for time-series data, simulate lags)\n",
    "* more engineering than math"
   ]
  },
  {
   "cell_type": "markdown",
   "metadata": {},
   "source": [
    "## Keras\n",
    "High-level framework for NNets."
   ]
  },
  {
   "cell_type": "code",
   "execution_count": 205,
   "metadata": {},
   "outputs": [],
   "source": [
    "from keras.models import Sequential\n",
    "from keras.layers import Dense\n",
    "import pandas as pd"
   ]
  },
  {
   "cell_type": "code",
   "execution_count": 206,
   "metadata": {},
   "outputs": [],
   "source": [
    "# load our dataset\n",
    "data = 'data/attrition.csv'\n",
    "df = pd.read_csv(data)"
   ]
  },
  {
   "cell_type": "code",
   "execution_count": 207,
   "metadata": {},
   "outputs": [],
   "source": [
    "# let's drop EmployeeID\n",
    "df.drop(['EmployeeNumber', 'EmployeeCount'], axis=1, inplace=True)"
   ]
  },
  {
   "cell_type": "code",
   "execution_count": 208,
   "metadata": {},
   "outputs": [
    {
     "data": {
      "text/html": [
       "<div>\n",
       "<style scoped>\n",
       "    .dataframe tbody tr th:only-of-type {\n",
       "        vertical-align: middle;\n",
       "    }\n",
       "\n",
       "    .dataframe tbody tr th {\n",
       "        vertical-align: top;\n",
       "    }\n",
       "\n",
       "    .dataframe thead th {\n",
       "        text-align: right;\n",
       "    }\n",
       "</style>\n",
       "<table border=\"1\" class=\"dataframe\">\n",
       "  <thead>\n",
       "    <tr style=\"text-align: right;\">\n",
       "      <th></th>\n",
       "      <th>Age</th>\n",
       "      <th>Attrition</th>\n",
       "      <th>BusinessTravel</th>\n",
       "      <th>DailyRate</th>\n",
       "      <th>Department</th>\n",
       "      <th>DistanceFromHome</th>\n",
       "      <th>Education</th>\n",
       "      <th>EducationField</th>\n",
       "      <th>EnvironmentSatisfaction</th>\n",
       "      <th>Gender</th>\n",
       "      <th>HourlyRate</th>\n",
       "      <th>JobInvolvement</th>\n",
       "      <th>JobLevel</th>\n",
       "      <th>JobRole</th>\n",
       "      <th>JobSatisfaction</th>\n",
       "      <th>MaritalStatus</th>\n",
       "      <th>MonthlyIncome</th>\n",
       "      <th>MonthlyRate</th>\n",
       "      <th>NumCompaniesWorked</th>\n",
       "      <th>Over18</th>\n",
       "      <th>OverTime</th>\n",
       "      <th>PercentSalaryHike</th>\n",
       "      <th>PerformanceRating</th>\n",
       "      <th>RelationshipSatisfaction</th>\n",
       "      <th>StandardHours</th>\n",
       "      <th>StockOptionLevel</th>\n",
       "      <th>TotalWorkingYears</th>\n",
       "      <th>TrainingTimesLastYear</th>\n",
       "      <th>WorkLifeBalance</th>\n",
       "      <th>YearsAtCompany</th>\n",
       "      <th>YearsInCurrentRole</th>\n",
       "      <th>YearsSinceLastPromotion</th>\n",
       "      <th>YearsWithCurrManager</th>\n",
       "    </tr>\n",
       "  </thead>\n",
       "  <tbody>\n",
       "    <tr>\n",
       "      <td>0</td>\n",
       "      <td>41</td>\n",
       "      <td>Yes</td>\n",
       "      <td>Travel_Rarely</td>\n",
       "      <td>1102</td>\n",
       "      <td>Sales</td>\n",
       "      <td>1</td>\n",
       "      <td>2</td>\n",
       "      <td>Life Sciences</td>\n",
       "      <td>2</td>\n",
       "      <td>Female</td>\n",
       "      <td>94</td>\n",
       "      <td>3</td>\n",
       "      <td>2</td>\n",
       "      <td>Sales Executive</td>\n",
       "      <td>4</td>\n",
       "      <td>Single</td>\n",
       "      <td>5993</td>\n",
       "      <td>19479</td>\n",
       "      <td>8</td>\n",
       "      <td>Y</td>\n",
       "      <td>Yes</td>\n",
       "      <td>11</td>\n",
       "      <td>3</td>\n",
       "      <td>1</td>\n",
       "      <td>80</td>\n",
       "      <td>0</td>\n",
       "      <td>8</td>\n",
       "      <td>0</td>\n",
       "      <td>1</td>\n",
       "      <td>6</td>\n",
       "      <td>4</td>\n",
       "      <td>0</td>\n",
       "      <td>5</td>\n",
       "    </tr>\n",
       "    <tr>\n",
       "      <td>1</td>\n",
       "      <td>49</td>\n",
       "      <td>No</td>\n",
       "      <td>Travel_Frequently</td>\n",
       "      <td>279</td>\n",
       "      <td>Research &amp; Development</td>\n",
       "      <td>8</td>\n",
       "      <td>1</td>\n",
       "      <td>Life Sciences</td>\n",
       "      <td>3</td>\n",
       "      <td>Male</td>\n",
       "      <td>61</td>\n",
       "      <td>2</td>\n",
       "      <td>2</td>\n",
       "      <td>Research Scientist</td>\n",
       "      <td>2</td>\n",
       "      <td>Married</td>\n",
       "      <td>5130</td>\n",
       "      <td>24907</td>\n",
       "      <td>1</td>\n",
       "      <td>Y</td>\n",
       "      <td>No</td>\n",
       "      <td>23</td>\n",
       "      <td>4</td>\n",
       "      <td>4</td>\n",
       "      <td>80</td>\n",
       "      <td>1</td>\n",
       "      <td>10</td>\n",
       "      <td>3</td>\n",
       "      <td>3</td>\n",
       "      <td>10</td>\n",
       "      <td>7</td>\n",
       "      <td>1</td>\n",
       "      <td>7</td>\n",
       "    </tr>\n",
       "    <tr>\n",
       "      <td>2</td>\n",
       "      <td>37</td>\n",
       "      <td>Yes</td>\n",
       "      <td>Travel_Rarely</td>\n",
       "      <td>1373</td>\n",
       "      <td>Research &amp; Development</td>\n",
       "      <td>2</td>\n",
       "      <td>2</td>\n",
       "      <td>Other</td>\n",
       "      <td>4</td>\n",
       "      <td>Male</td>\n",
       "      <td>92</td>\n",
       "      <td>2</td>\n",
       "      <td>1</td>\n",
       "      <td>Laboratory Technician</td>\n",
       "      <td>3</td>\n",
       "      <td>Single</td>\n",
       "      <td>2090</td>\n",
       "      <td>2396</td>\n",
       "      <td>6</td>\n",
       "      <td>Y</td>\n",
       "      <td>Yes</td>\n",
       "      <td>15</td>\n",
       "      <td>3</td>\n",
       "      <td>2</td>\n",
       "      <td>80</td>\n",
       "      <td>0</td>\n",
       "      <td>7</td>\n",
       "      <td>3</td>\n",
       "      <td>3</td>\n",
       "      <td>0</td>\n",
       "      <td>0</td>\n",
       "      <td>0</td>\n",
       "      <td>0</td>\n",
       "    </tr>\n",
       "    <tr>\n",
       "      <td>3</td>\n",
       "      <td>33</td>\n",
       "      <td>No</td>\n",
       "      <td>Travel_Frequently</td>\n",
       "      <td>1392</td>\n",
       "      <td>Research &amp; Development</td>\n",
       "      <td>3</td>\n",
       "      <td>4</td>\n",
       "      <td>Life Sciences</td>\n",
       "      <td>4</td>\n",
       "      <td>Female</td>\n",
       "      <td>56</td>\n",
       "      <td>3</td>\n",
       "      <td>1</td>\n",
       "      <td>Research Scientist</td>\n",
       "      <td>3</td>\n",
       "      <td>Married</td>\n",
       "      <td>2909</td>\n",
       "      <td>23159</td>\n",
       "      <td>1</td>\n",
       "      <td>Y</td>\n",
       "      <td>Yes</td>\n",
       "      <td>11</td>\n",
       "      <td>3</td>\n",
       "      <td>3</td>\n",
       "      <td>80</td>\n",
       "      <td>0</td>\n",
       "      <td>8</td>\n",
       "      <td>3</td>\n",
       "      <td>3</td>\n",
       "      <td>8</td>\n",
       "      <td>7</td>\n",
       "      <td>3</td>\n",
       "      <td>0</td>\n",
       "    </tr>\n",
       "    <tr>\n",
       "      <td>4</td>\n",
       "      <td>27</td>\n",
       "      <td>No</td>\n",
       "      <td>Travel_Rarely</td>\n",
       "      <td>591</td>\n",
       "      <td>Research &amp; Development</td>\n",
       "      <td>2</td>\n",
       "      <td>1</td>\n",
       "      <td>Medical</td>\n",
       "      <td>1</td>\n",
       "      <td>Male</td>\n",
       "      <td>40</td>\n",
       "      <td>3</td>\n",
       "      <td>1</td>\n",
       "      <td>Laboratory Technician</td>\n",
       "      <td>2</td>\n",
       "      <td>Married</td>\n",
       "      <td>3468</td>\n",
       "      <td>16632</td>\n",
       "      <td>9</td>\n",
       "      <td>Y</td>\n",
       "      <td>No</td>\n",
       "      <td>12</td>\n",
       "      <td>3</td>\n",
       "      <td>4</td>\n",
       "      <td>80</td>\n",
       "      <td>1</td>\n",
       "      <td>6</td>\n",
       "      <td>3</td>\n",
       "      <td>3</td>\n",
       "      <td>2</td>\n",
       "      <td>2</td>\n",
       "      <td>2</td>\n",
       "      <td>2</td>\n",
       "    </tr>\n",
       "  </tbody>\n",
       "</table>\n",
       "</div>"
      ],
      "text/plain": [
       "   Age Attrition  ... YearsSinceLastPromotion  YearsWithCurrManager\n",
       "0   41       Yes  ...                       0                     5\n",
       "1   49        No  ...                       1                     7\n",
       "2   37       Yes  ...                       0                     0\n",
       "3   33        No  ...                       3                     0\n",
       "4   27        No  ...                       2                     2\n",
       "\n",
       "[5 rows x 33 columns]"
      ]
     },
     "execution_count": 208,
     "metadata": {},
     "output_type": "execute_result"
    }
   ],
   "source": [
    "df.head()"
   ]
  },
  {
   "cell_type": "code",
   "execution_count": 209,
   "metadata": {},
   "outputs": [],
   "source": [
    "# split to input and predicted data\n",
    "Xk = df.loc[:,df.columns!='Attrition']\n",
    "Yk = df.loc[:,'Attrition']"
   ]
  },
  {
   "cell_type": "code",
   "execution_count": 210,
   "metadata": {},
   "outputs": [],
   "source": [
    "# we're going to reuse some tricks from the last lesson\n",
    "from sklearn.preprocessing import OneHotEncoder, RobustScaler\n",
    "from sklearn.compose import ColumnTransformer\n",
    "from sklearn.pipeline import Pipeline\n",
    "from sklearn.impute import SimpleImputer\n",
    "from sklearn.model_selection import train_test_split\n",
    "from sklearn.metrics import confusion_matrix, accuracy_score"
   ]
  },
  {
   "cell_type": "code",
   "execution_count": 211,
   "metadata": {},
   "outputs": [
    {
     "data": {
      "text/plain": [
       "Index(['Age', 'Attrition', 'BusinessTravel', 'DailyRate', 'Department',\n",
       "       'DistanceFromHome', 'Education', 'EducationField',\n",
       "       'EnvironmentSatisfaction', 'Gender', 'HourlyRate', 'JobInvolvement',\n",
       "       'JobLevel', 'JobRole', 'JobSatisfaction', 'MaritalStatus',\n",
       "       'MonthlyIncome', 'MonthlyRate', 'NumCompaniesWorked', 'Over18',\n",
       "       'OverTime', 'PercentSalaryHike', 'PerformanceRating',\n",
       "       'RelationshipSatisfaction', 'StandardHours', 'StockOptionLevel',\n",
       "       'TotalWorkingYears', 'TrainingTimesLastYear', 'WorkLifeBalance',\n",
       "       'YearsAtCompany', 'YearsInCurrentRole', 'YearsSinceLastPromotion',\n",
       "       'YearsWithCurrManager'],\n",
       "      dtype='object')"
      ]
     },
     "execution_count": 211,
     "metadata": {},
     "output_type": "execute_result"
    }
   ],
   "source": [
    "df.columns"
   ]
  },
  {
   "cell_type": "code",
   "execution_count": 212,
   "metadata": {},
   "outputs": [],
   "source": [
    "# let's label numerical columns\n",
    "num_feature_cols = [ 'Age', 'DailyRate','DistanceFromHome', 'Education',\n",
    "        'HourlyRate', 'EnvironmentSatisfaction', 'JobInvolvement', 'JobLevel',\n",
    "        'JobSatisfaction', 'MonthlyIncome','NumCompaniesWorked', 'PercentSalaryHike',\n",
    "        'RelationshipSatisfaction', 'StockOptionLevel', 'PerformanceRating', 'StandardHours',\n",
    "        'TotalWorkingYears', 'TrainingTimesLastYear', 'WorkLifeBalance',\n",
    "        'YearsAtCompany', 'YearsInCurrentRole', 'YearsSinceLastPromotion',\n",
    "        'YearsWithCurrManager', 'MonthlyRate']"
   ]
  },
  {
   "cell_type": "code",
   "execution_count": 213,
   "metadata": {},
   "outputs": [],
   "source": [
    "# and categorical\n",
    "cat_feature_cols = [x for x in Xk.columns if x not in num_feature_cols]"
   ]
  },
  {
   "cell_type": "code",
   "execution_count": 214,
   "metadata": {},
   "outputs": [
    {
     "data": {
      "text/plain": [
       "['BusinessTravel',\n",
       " 'Department',\n",
       " 'EducationField',\n",
       " 'Gender',\n",
       " 'JobRole',\n",
       " 'MaritalStatus',\n",
       " 'Over18',\n",
       " 'OverTime']"
      ]
     },
     "execution_count": 214,
     "metadata": {},
     "output_type": "execute_result"
    }
   ],
   "source": [
    "cat_feature_cols"
   ]
  },
  {
   "cell_type": "code",
   "execution_count": 215,
   "metadata": {},
   "outputs": [],
   "source": [
    "# Pipelines!\n",
    "num_transformer = Pipeline(steps=[\n",
    "                  ('imputer', SimpleImputer(strategy='median')),\n",
    "                  ('scaler', RobustScaler())])\n",
    "\n",
    "cat_transformer = Pipeline(steps=[\n",
    "                  ('imputer', SimpleImputer(strategy='most_frequent')),\n",
    "                  ('onehot', OneHotEncoder(categories='auto', \n",
    "                                     sparse=False, \n",
    "                                     handle_unknown='ignore'))])\n",
    "\n",
    "pipeline_preprocess = ColumnTransformer(transformers=[\n",
    "        ('numerical_preprocessing', num_transformer, num_feature_cols),\n",
    "        ('categorical_preprocessing', cat_transformer, cat_feature_cols)],\n",
    "        remainder='passthrough')\n",
    "\n",
    "pipe0 = Pipeline([(\"transform_inputs\", pipeline_preprocess)])"
   ]
  },
  {
   "cell_type": "code",
   "execution_count": 216,
   "metadata": {},
   "outputs": [],
   "source": [
    "# apply transformations\n",
    "Xkk = pipe0.fit_transform(Xk)"
   ]
  },
  {
   "cell_type": "code",
   "execution_count": 217,
   "metadata": {},
   "outputs": [],
   "source": [
    "# alternative way to get booleans\n",
    "Ykk = Yk.str.get_dummies().iloc[:,1]"
   ]
  },
  {
   "cell_type": "code",
   "execution_count": 218,
   "metadata": {},
   "outputs": [],
   "source": [
    "Xk_train, Xk_test, Yk_train, Yk_test = train_test_split(Xkk, Ykk, test_size=0.3)"
   ]
  },
  {
   "cell_type": "code",
   "execution_count": 219,
   "metadata": {},
   "outputs": [],
   "source": [
    "model = Sequential()\n",
    "#First Hidden Layer\n",
    "model.add(Dense(4, activation='relu', kernel_initializer='random_normal', input_dim=53))\n",
    "#Second  Hidden Layer\n",
    "model.add(Dense(4, activation='relu', kernel_initializer='random_normal'))\n",
    "#Output Layer\n",
    "model.add(Dense(1, activation='sigmoid', kernel_initializer='random_normal'))"
   ]
  },
  {
   "cell_type": "code",
   "execution_count": 220,
   "metadata": {},
   "outputs": [],
   "source": [
    "#Compiling the neural network\n",
    "model.compile(optimizer ='adam',loss='binary_crossentropy', metrics =['accuracy'])"
   ]
  },
  {
   "cell_type": "code",
   "execution_count": 221,
   "metadata": {},
   "outputs": [
    {
     "name": "stdout",
     "output_type": "stream",
     "text": [
      "Epoch 1/100\n",
      "1029/1029 [==============================] - 0s 258us/step - loss: 0.6671 - accuracy: 0.8387\n",
      "Epoch 2/100\n",
      "1029/1029 [==============================] - 0s 90us/step - loss: 0.5152 - accuracy: 0.8416\n",
      "Epoch 3/100\n",
      "1029/1029 [==============================] - 0s 79us/step - loss: 0.4092 - accuracy: 0.8416\n",
      "Epoch 4/100\n",
      "1029/1029 [==============================] - 0s 83us/step - loss: 0.3940 - accuracy: 0.8416\n",
      "Epoch 5/100\n",
      "1029/1029 [==============================] - 0s 94us/step - loss: 0.3806 - accuracy: 0.8416\n",
      "Epoch 6/100\n",
      "1029/1029 [==============================] - 0s 83us/step - loss: 0.3688 - accuracy: 0.8416\n",
      "Epoch 7/100\n",
      "1029/1029 [==============================] - 0s 94us/step - loss: 0.3580 - accuracy: 0.8416\n",
      "Epoch 8/100\n",
      "1029/1029 [==============================] - 0s 82us/step - loss: 0.3479 - accuracy: 0.8416\n",
      "Epoch 9/100\n",
      "1029/1029 [==============================] - 0s 85us/step - loss: 0.3396 - accuracy: 0.8416\n",
      "Epoch 10/100\n",
      "1029/1029 [==============================] - 0s 82us/step - loss: 0.3321 - accuracy: 0.8416\n",
      "Epoch 11/100\n",
      "1029/1029 [==============================] - 0s 85us/step - loss: 0.3256 - accuracy: 0.8416\n",
      "Epoch 12/100\n",
      "1029/1029 [==============================] - 0s 84us/step - loss: 0.3212 - accuracy: 0.8416\n",
      "Epoch 13/100\n",
      "1029/1029 [==============================] - 0s 85us/step - loss: 0.3172 - accuracy: 0.8416\n",
      "Epoch 14/100\n",
      "1029/1029 [==============================] - 0s 82us/step - loss: 0.3141 - accuracy: 0.8416\n",
      "Epoch 15/100\n",
      "1029/1029 [==============================] - 0s 91us/step - loss: 0.3108 - accuracy: 0.8416\n",
      "Epoch 16/100\n",
      "1029/1029 [==============================] - 0s 91us/step - loss: 0.3088 - accuracy: 0.8416\n",
      "Epoch 17/100\n",
      "1029/1029 [==============================] - 0s 87us/step - loss: 0.3070 - accuracy: 0.8659\n",
      "Epoch 18/100\n",
      "1029/1029 [==============================] - 0s 83us/step - loss: 0.3051 - accuracy: 0.8873\n",
      "Epoch 19/100\n",
      "1029/1029 [==============================] - 0s 86us/step - loss: 0.3045 - accuracy: 0.8834\n",
      "Epoch 20/100\n",
      "1029/1029 [==============================] - 0s 86us/step - loss: 0.3030 - accuracy: 0.8882\n",
      "Epoch 21/100\n",
      "1029/1029 [==============================] - 0s 84us/step - loss: 0.3016 - accuracy: 0.8912\n",
      "Epoch 22/100\n",
      "1029/1029 [==============================] - 0s 92us/step - loss: 0.3013 - accuracy: 0.8931\n",
      "Epoch 23/100\n",
      "1029/1029 [==============================] - 0s 83us/step - loss: 0.3009 - accuracy: 0.8892\n",
      "Epoch 24/100\n",
      "1029/1029 [==============================] - 0s 82us/step - loss: 0.2988 - accuracy: 0.8921\n",
      "Epoch 25/100\n",
      "1029/1029 [==============================] - 0s 87us/step - loss: 0.2977 - accuracy: 0.8912\n",
      "Epoch 26/100\n",
      "1029/1029 [==============================] - 0s 82us/step - loss: 0.2972 - accuracy: 0.8902\n",
      "Epoch 27/100\n",
      "1029/1029 [==============================] - 0s 83us/step - loss: 0.2969 - accuracy: 0.8921\n",
      "Epoch 28/100\n",
      "1029/1029 [==============================] - 0s 90us/step - loss: 0.2961 - accuracy: 0.8960\n",
      "Epoch 29/100\n",
      "1029/1029 [==============================] - 0s 89us/step - loss: 0.2951 - accuracy: 0.8902\n",
      "Epoch 30/100\n",
      "1029/1029 [==============================] - 0s 90us/step - loss: 0.2946 - accuracy: 0.8902\n",
      "Epoch 31/100\n",
      "1029/1029 [==============================] - 0s 88us/step - loss: 0.2940 - accuracy: 0.8921\n",
      "Epoch 32/100\n",
      "1029/1029 [==============================] - 0s 86us/step - loss: 0.2926 - accuracy: 0.8931\n",
      "Epoch 33/100\n",
      "1029/1029 [==============================] - 0s 84us/step - loss: 0.2931 - accuracy: 0.8950\n",
      "Epoch 34/100\n",
      "1029/1029 [==============================] - 0s 85us/step - loss: 0.2920 - accuracy: 0.8931\n",
      "Epoch 35/100\n",
      "1029/1029 [==============================] - 0s 85us/step - loss: 0.2911 - accuracy: 0.8902\n",
      "Epoch 36/100\n",
      "1029/1029 [==============================] - 0s 84us/step - loss: 0.2898 - accuracy: 0.8941\n",
      "Epoch 37/100\n",
      "1029/1029 [==============================] - 0s 85us/step - loss: 0.2885 - accuracy: 0.8931\n",
      "Epoch 38/100\n",
      "1029/1029 [==============================] - 0s 89us/step - loss: 0.2884 - accuracy: 0.8931\n",
      "Epoch 39/100\n",
      "1029/1029 [==============================] - 0s 90us/step - loss: 0.2880 - accuracy: 0.8931\n",
      "Epoch 40/100\n",
      "1029/1029 [==============================] - 0s 96us/step - loss: 0.2875 - accuracy: 0.8912\n",
      "Epoch 41/100\n",
      "1029/1029 [==============================] - 0s 93us/step - loss: 0.2862 - accuracy: 0.8970\n",
      "Epoch 42/100\n",
      "1029/1029 [==============================] - 0s 92us/step - loss: 0.2851 - accuracy: 0.8941\n",
      "Epoch 43/100\n",
      "1029/1029 [==============================] - 0s 85us/step - loss: 0.2844 - accuracy: 0.8960\n",
      "Epoch 44/100\n",
      "1029/1029 [==============================] - 0s 86us/step - loss: 0.2837 - accuracy: 0.8960\n",
      "Epoch 45/100\n",
      "1029/1029 [==============================] - 0s 86us/step - loss: 0.2824 - accuracy: 0.8960\n",
      "Epoch 46/100\n",
      "1029/1029 [==============================] - 0s 101us/step - loss: 0.2829 - accuracy: 0.8970\n",
      "Epoch 47/100\n",
      "1029/1029 [==============================] - 0s 100us/step - loss: 0.2827 - accuracy: 0.8989\n",
      "Epoch 48/100\n",
      "1029/1029 [==============================] - 0s 96us/step - loss: 0.2815 - accuracy: 0.8970\n",
      "Epoch 49/100\n",
      "1029/1029 [==============================] - 0s 88us/step - loss: 0.2806 - accuracy: 0.9009\n",
      "Epoch 50/100\n",
      "1029/1029 [==============================] - 0s 88us/step - loss: 0.2793 - accuracy: 0.8999\n",
      "Epoch 51/100\n",
      "1029/1029 [==============================] - 0s 86us/step - loss: 0.2793 - accuracy: 0.8941\n",
      "Epoch 52/100\n",
      "1029/1029 [==============================] - 0s 87us/step - loss: 0.2788 - accuracy: 0.8970\n",
      "Epoch 53/100\n",
      "1029/1029 [==============================] - 0s 95us/step - loss: 0.2788 - accuracy: 0.9009\n",
      "Epoch 54/100\n",
      "1029/1029 [==============================] - 0s 88us/step - loss: 0.2772 - accuracy: 0.9018\n",
      "Epoch 55/100\n",
      "1029/1029 [==============================] - 0s 85us/step - loss: 0.2772 - accuracy: 0.8989\n",
      "Epoch 56/100\n",
      "1029/1029 [==============================] - 0s 88us/step - loss: 0.2766 - accuracy: 0.8999\n",
      "Epoch 57/100\n",
      "1029/1029 [==============================] - 0s 82us/step - loss: 0.2760 - accuracy: 0.8989\n",
      "Epoch 58/100\n",
      "1029/1029 [==============================] - 0s 84us/step - loss: 0.2752 - accuracy: 0.9028\n",
      "Epoch 59/100\n",
      "1029/1029 [==============================] - 0s 84us/step - loss: 0.2752 - accuracy: 0.8989\n",
      "Epoch 60/100\n",
      "1029/1029 [==============================] - 0s 97us/step - loss: 0.2751 - accuracy: 0.8989\n",
      "Epoch 61/100\n",
      "1029/1029 [==============================] - 0s 86us/step - loss: 0.2737 - accuracy: 0.9009\n",
      "Epoch 62/100\n",
      "1029/1029 [==============================] - 0s 85us/step - loss: 0.2730 - accuracy: 0.9009\n",
      "Epoch 63/100\n",
      "1029/1029 [==============================] - 0s 88us/step - loss: 0.2730 - accuracy: 0.9018\n",
      "Epoch 64/100\n",
      "1029/1029 [==============================] - 0s 97us/step - loss: 0.2722 - accuracy: 0.8980\n",
      "Epoch 65/100\n",
      "1029/1029 [==============================] - 0s 94us/step - loss: 0.2716 - accuracy: 0.8999\n",
      "Epoch 66/100\n",
      "1029/1029 [==============================] - 0s 97us/step - loss: 0.2707 - accuracy: 0.9009\n",
      "Epoch 67/100\n",
      "1029/1029 [==============================] - 0s 89us/step - loss: 0.2706 - accuracy: 0.9009\n",
      "Epoch 68/100\n",
      "1029/1029 [==============================] - 0s 80us/step - loss: 0.2707 - accuracy: 0.9009\n",
      "Epoch 69/100\n",
      "1029/1029 [==============================] - 0s 82us/step - loss: 0.2703 - accuracy: 0.9038\n",
      "Epoch 70/100\n",
      "1029/1029 [==============================] - 0s 84us/step - loss: 0.2698 - accuracy: 0.9038\n",
      "Epoch 71/100\n",
      "1029/1029 [==============================] - 0s 82us/step - loss: 0.2686 - accuracy: 0.8989\n",
      "Epoch 72/100\n",
      "1029/1029 [==============================] - 0s 93us/step - loss: 0.2686 - accuracy: 0.9048\n",
      "Epoch 73/100\n",
      "1029/1029 [==============================] - 0s 114us/step - loss: 0.2683 - accuracy: 0.9057\n",
      "Epoch 74/100\n",
      "1029/1029 [==============================] - 0s 96us/step - loss: 0.2677 - accuracy: 0.9038\n",
      "Epoch 75/100\n",
      "1029/1029 [==============================] - 0s 92us/step - loss: 0.2677 - accuracy: 0.9057\n",
      "Epoch 76/100\n",
      "1029/1029 [==============================] - 0s 90us/step - loss: 0.2666 - accuracy: 0.8999\n",
      "Epoch 77/100\n",
      "1029/1029 [==============================] - 0s 86us/step - loss: 0.2659 - accuracy: 0.9038\n",
      "Epoch 78/100\n",
      "1029/1029 [==============================] - 0s 90us/step - loss: 0.2663 - accuracy: 0.9018\n",
      "Epoch 79/100\n"
     ]
    },
    {
     "name": "stdout",
     "output_type": "stream",
     "text": [
      "1029/1029 [==============================] - 0s 89us/step - loss: 0.2661 - accuracy: 0.9077\n",
      "Epoch 80/100\n",
      "1029/1029 [==============================] - 0s 84us/step - loss: 0.2649 - accuracy: 0.8999\n",
      "Epoch 81/100\n",
      "1029/1029 [==============================] - 0s 88us/step - loss: 0.2649 - accuracy: 0.9057\n",
      "Epoch 82/100\n",
      "1029/1029 [==============================] - 0s 90us/step - loss: 0.2648 - accuracy: 0.9067\n",
      "Epoch 83/100\n",
      "1029/1029 [==============================] - 0s 89us/step - loss: 0.2641 - accuracy: 0.9048\n",
      "Epoch 84/100\n",
      "1029/1029 [==============================] - 0s 90us/step - loss: 0.2634 - accuracy: 0.9067\n",
      "Epoch 85/100\n",
      "1029/1029 [==============================] - 0s 86us/step - loss: 0.2626 - accuracy: 0.9086\n",
      "Epoch 86/100\n",
      "1029/1029 [==============================] - 0s 87us/step - loss: 0.2630 - accuracy: 0.9018\n",
      "Epoch 87/100\n",
      "1029/1029 [==============================] - 0s 86us/step - loss: 0.2622 - accuracy: 0.9096\n",
      "Epoch 88/100\n",
      "1029/1029 [==============================] - 0s 89us/step - loss: 0.2616 - accuracy: 0.9106\n",
      "Epoch 89/100\n",
      "1029/1029 [==============================] - 0s 85us/step - loss: 0.2624 - accuracy: 0.9077\n",
      "Epoch 90/100\n",
      "1029/1029 [==============================] - 0s 83us/step - loss: 0.2610 - accuracy: 0.9067\n",
      "Epoch 91/100\n",
      "1029/1029 [==============================] - 0s 85us/step - loss: 0.2618 - accuracy: 0.9048\n",
      "Epoch 92/100\n",
      "1029/1029 [==============================] - 0s 83us/step - loss: 0.2608 - accuracy: 0.9077\n",
      "Epoch 93/100\n",
      "1029/1029 [==============================] - 0s 82us/step - loss: 0.2600 - accuracy: 0.9067\n",
      "Epoch 94/100\n",
      "1029/1029 [==============================] - 0s 82us/step - loss: 0.2596 - accuracy: 0.9067\n",
      "Epoch 95/100\n",
      "1029/1029 [==============================] - 0s 87us/step - loss: 0.2603 - accuracy: 0.9067\n",
      "Epoch 96/100\n",
      "1029/1029 [==============================] - 0s 84us/step - loss: 0.2595 - accuracy: 0.9086\n",
      "Epoch 97/100\n",
      "1029/1029 [==============================] - 0s 85us/step - loss: 0.2593 - accuracy: 0.9067\n",
      "Epoch 98/100\n",
      "1029/1029 [==============================] - 0s 88us/step - loss: 0.2589 - accuracy: 0.9086\n",
      "Epoch 99/100\n",
      "1029/1029 [==============================] - 0s 85us/step - loss: 0.2582 - accuracy: 0.9077\n",
      "Epoch 100/100\n",
      "1029/1029 [==============================] - 0s 90us/step - loss: 0.2581 - accuracy: 0.9067\n"
     ]
    },
    {
     "data": {
      "text/plain": [
       "<keras.callbacks.callbacks.History at 0x138f8b550>"
      ]
     },
     "execution_count": 221,
     "metadata": {},
     "output_type": "execute_result"
    }
   ],
   "source": [
    "model.fit(Xk_train,Yk_train, batch_size=10, epochs=100)"
   ]
  },
  {
   "cell_type": "code",
   "execution_count": 226,
   "metadata": {},
   "outputs": [
    {
     "name": "stdout",
     "output_type": "stream",
     "text": [
      "1029/1029 [==============================] - 0s 26us/step\n",
      "Loss and accuracy on train set# 0.255008: 0.908649\n"
     ]
    }
   ],
   "source": [
    "[loss_train, accuracy_train] = model.evaluate(Xk_train, Yk_train)\n",
    "print('Loss and accuracy on train set {:f}: {:f}'.format(loss_train, accuracy_train))"
   ]
  },
  {
   "cell_type": "code",
   "execution_count": 231,
   "metadata": {},
   "outputs": [],
   "source": [
    "# Let's predict on test set\n",
    "Yk_pred = model.predict(Xk_test)\n",
    "Yk_pred = (Yk_pred>0.5)"
   ]
  },
  {
   "cell_type": "code",
   "execution_count": 240,
   "metadata": {},
   "outputs": [
    {
     "name": "stdout",
     "output_type": "stream",
     "text": [
      "Confusion matrix, without normalization\n",
      "[[355  12]\n",
      " [ 51  23]] \n",
      "\n",
      "Normalized confusion matrix\n",
      "[[0.96730245 0.03269755]\n",
      " [0.68918919 0.31081081]] \n",
      "\n",
      "Accuracy of classification 0.857143\n"
     ]
    }
   ],
   "source": [
    "# Evaluate the model\n",
    "cm = confusion_matrix(Yk_test, Yk_pred)\n",
    "accuracy = accuracy_score(Yk_test, Yk_pred)\n",
    "cm_norm = cm.astype('float') / cm.sum(axis=1)[:, np.newaxis]\n",
    "print('Confusion matrix, without normalization')\n",
    "print(cm,'\\n')\n",
    "print('Normalized confusion matrix')\n",
    "print(cm_norm,'\\n')\n",
    "print('Accuracy of classification {:f}'.format(accuracy))"
   ]
  }
 ],
 "metadata": {
  "kernelspec": {
   "display_name": "Python 3",
   "language": "python",
   "name": "python3"
  },
  "language_info": {
   "codemirror_mode": {
    "name": "ipython",
    "version": 3
   },
   "file_extension": ".py",
   "mimetype": "text/x-python",
   "name": "python",
   "nbconvert_exporter": "python",
   "pygments_lexer": "ipython3",
   "version": "3.5.5"
  }
 },
 "nbformat": 4,
 "nbformat_minor": 2
}
